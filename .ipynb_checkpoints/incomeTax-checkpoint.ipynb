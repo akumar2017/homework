{
 "cells": [
  {
   "cell_type": "code",
   "execution_count": 3,
   "metadata": {
    "scrolled": true
   },
   "outputs": [],
   "source": [
    "using Statistics, LinearAlgebra, Random, DataFrames, Plots, StatsPlots, CSV"
   ]
  },
  {
   "cell_type": "code",
   "execution_count": 4,
   "metadata": {
    "scrolled": true
   },
   "outputs": [
    {
     "data": {
      "text/html": [
       "<table class=\"data-frame\"><thead><tr><th></th><th>Year</th><th>County</th><th>IncomeClass</th><th>Disclosure</th><th>ReturnCount</th><th>TotalIncome</th></tr><tr><th></th><th>Int64</th><th>String</th><th>String</th><th>String⍰</th><th>Int64⍰</th><th>Int64⍰</th></tr></thead><tbody><p>12,589 rows × 13 columns (omitted printing of 7 columns)</p><tr><th>1</th><td>2011</td><td>Hamilton</td><td>500,000 and over</td><td>d/</td><td>missing</td><td>missing</td></tr><tr><th>2</th><td>2003</td><td> Dutchess </td><td>100,000 - 199,999</td><td>missing</td><td>12738</td><td>1668991</td></tr><tr><th>3</th><td>2001</td><td> Ontario </td><td>Total</td><td>missing</td><td>44898</td><td>1829734</td></tr><tr><th>4</th><td>2012</td><td>New York City - Richmond</td><td>30,000 - 39,999</td><td>missing</td><td>16086</td><td>559918</td></tr><tr><th>5</th><td>2007</td><td> Clinton </td><td>50,000 - 59,999</td><td>missing</td><td>2197</td><td>120482</td></tr><tr><th>6</th><td>1999</td><td> Saratoga </td><td>Total</td><td>missing</td><td>88920</td><td>3969074</td></tr><tr><th>7</th><td>2010</td><td>Onondaga</td><td>60,000 - 74,999</td><td>missing</td><td>13837</td><td>928570</td></tr><tr><th>8</th><td>2008</td><td> Ulster </td><td>40,000 - 49,999</td><td>missing</td><td>5971</td><td>266988</td></tr><tr><th>9</th><td>2005</td><td> Clinton </td><td>Total</td><td>missing</td><td>33634</td><td>1284580</td></tr><tr><th>10</th><td>2007</td><td> Livingston </td><td>200,000 - 249,999</td><td>missing</td><td>104</td><td>22811</td></tr><tr><th>11</th><td>2012</td><td>Washington</td><td>500,000 and over</td><td>missing</td><td>35</td><td>44397</td></tr><tr><th>12</th><td>2011</td><td>New York City - Kings</td><td>100,000 - 199,999</td><td>missing</td><td>65072</td><td>8717982</td></tr><tr><th>13</th><td>2005</td><td> Westchester </td><td>50,000 - 59,999</td><td>missing</td><td>23546</td><td>1290957</td></tr><tr><th>14</th><td>2004</td><td> Orange </td><td>60,000 - 74,999</td><td>missing</td><td>11545</td><td>776872</td></tr><tr><th>15</th><td>2008</td><td> Dutchess </td><td>75,000 - 99,999</td><td>missing</td><td>12391</td><td>1077050</td></tr><tr><th>16</th><td>2012</td><td>Cortland</td><td>30,000 - 39,999</td><td>missing</td><td>2069</td><td>71838</td></tr><tr><th>17</th><td>2000</td><td> New York City - Kings </td><td>5,000 - 9,999</td><td>missing</td><td>125794</td><td>951643</td></tr><tr><th>18</th><td>2008</td><td> Dutchess </td><td>60,000 - 74,999</td><td>missing</td><td>9577</td><td>643643</td></tr><tr><th>19</th><td>2012</td><td>Ulster</td><td>5,000 - 9,999</td><td>missing</td><td>7048</td><td>52553</td></tr><tr><th>20</th><td>2010</td><td>Ontario</td><td>200,000 - 249,999</td><td>missing</td><td>408</td><td>90828</td></tr><tr><th>21</th><td>2006</td><td> Oswego </td><td>100,000 - 199,999</td><td>missing</td><td>2778</td><td>346108</td></tr><tr><th>22</th><td>2010</td><td>Oswego</td><td>Total</td><td>missing</td><td>50958</td><td>2023764</td></tr><tr><th>23</th><td>2002</td><td> Sullivan </td><td>50,000 - 59,999</td><td>missing</td><td>1676</td><td>91734</td></tr><tr><th>24</th><td>2010</td><td>Rockland</td><td>10,000 - 19,999</td><td>missing</td><td>18173</td><td>268331</td></tr><tr><th>25</th><td>2003</td><td> Delaware </td><td>60,000 - 74,999</td><td>missing</td><td>1075</td><td>71844</td></tr><tr><th>26</th><td>2005</td><td> Washington </td><td>75,000 - 99,999</td><td>missing</td><td>1572</td><td>135013</td></tr><tr><th>27</th><td>2002</td><td> Fulton </td><td>100,000 - 199,999</td><td>missing</td><td>632</td><td>80160</td></tr><tr><th>28</th><td>2006</td><td> Schoharie </td><td>20,000 - 29,999</td><td>missing</td><td>1769</td><td>43849</td></tr><tr><th>29</th><td>2003</td><td> Genesee </td><td>40,000 - 49,999</td><td>missing</td><td>2154</td><td>96606</td></tr><tr><th>30</th><td>2007</td><td> Seneca </td><td>40,000 - 49,999</td><td>missing</td><td>1174</td><td>52525</td></tr><tr><th>&vellip;</th><td>&vellip;</td><td>&vellip;</td><td>&vellip;</td><td>&vellip;</td><td>&vellip;</td><td>&vellip;</td></tr></tbody></table>"
      ],
      "text/latex": [
       "\\begin{tabular}{r|ccccccc}\n",
       "\t& Year & County & IncomeClass & Disclosure & ReturnCount & TotalIncome & \\\\\n",
       "\t\\hline\n",
       "\t& Int64 & String & String & String⍰ & Int64⍰ & Int64⍰ & \\\\\n",
       "\t\\hline\n",
       "\t1 & 2011 & Hamilton & 500,000 and over & d/ &  &  & $\\dots$ \\\\\n",
       "\t2 & 2003 &  Dutchess  & 100,000 - 199,999 &  & 12738 & 1668991 & $\\dots$ \\\\\n",
       "\t3 & 2001 &  Ontario  & Total &  & 44898 & 1829734 & $\\dots$ \\\\\n",
       "\t4 & 2012 & New York City - Richmond & 30,000 - 39,999 &  & 16086 & 559918 & $\\dots$ \\\\\n",
       "\t5 & 2007 &  Clinton  & 50,000 - 59,999 &  & 2197 & 120482 & $\\dots$ \\\\\n",
       "\t6 & 1999 &  Saratoga  & Total &  & 88920 & 3969074 & $\\dots$ \\\\\n",
       "\t7 & 2010 & Onondaga & 60,000 - 74,999 &  & 13837 & 928570 & $\\dots$ \\\\\n",
       "\t8 & 2008 &  Ulster  & 40,000 - 49,999 &  & 5971 & 266988 & $\\dots$ \\\\\n",
       "\t9 & 2005 &  Clinton  & Total &  & 33634 & 1284580 & $\\dots$ \\\\\n",
       "\t10 & 2007 &  Livingston  & 200,000 - 249,999 &  & 104 & 22811 & $\\dots$ \\\\\n",
       "\t11 & 2012 & Washington & 500,000 and over &  & 35 & 44397 & $\\dots$ \\\\\n",
       "\t12 & 2011 & New York City - Kings & 100,000 - 199,999 &  & 65072 & 8717982 & $\\dots$ \\\\\n",
       "\t13 & 2005 &  Westchester  & 50,000 - 59,999 &  & 23546 & 1290957 & $\\dots$ \\\\\n",
       "\t14 & 2004 &  Orange  & 60,000 - 74,999 &  & 11545 & 776872 & $\\dots$ \\\\\n",
       "\t15 & 2008 &  Dutchess  & 75,000 - 99,999 &  & 12391 & 1077050 & $\\dots$ \\\\\n",
       "\t16 & 2012 & Cortland & 30,000 - 39,999 &  & 2069 & 71838 & $\\dots$ \\\\\n",
       "\t17 & 2000 &  New York City - Kings  & 5,000 - 9,999 &  & 125794 & 951643 & $\\dots$ \\\\\n",
       "\t18 & 2008 &  Dutchess  & 60,000 - 74,999 &  & 9577 & 643643 & $\\dots$ \\\\\n",
       "\t19 & 2012 & Ulster & 5,000 - 9,999 &  & 7048 & 52553 & $\\dots$ \\\\\n",
       "\t20 & 2010 & Ontario & 200,000 - 249,999 &  & 408 & 90828 & $\\dots$ \\\\\n",
       "\t21 & 2006 &  Oswego  & 100,000 - 199,999 &  & 2778 & 346108 & $\\dots$ \\\\\n",
       "\t22 & 2010 & Oswego & Total &  & 50958 & 2023764 & $\\dots$ \\\\\n",
       "\t23 & 2002 &  Sullivan  & 50,000 - 59,999 &  & 1676 & 91734 & $\\dots$ \\\\\n",
       "\t24 & 2010 & Rockland & 10,000 - 19,999 &  & 18173 & 268331 & $\\dots$ \\\\\n",
       "\t25 & 2003 &  Delaware  & 60,000 - 74,999 &  & 1075 & 71844 & $\\dots$ \\\\\n",
       "\t26 & 2005 &  Washington  & 75,000 - 99,999 &  & 1572 & 135013 & $\\dots$ \\\\\n",
       "\t27 & 2002 &  Fulton  & 100,000 - 199,999 &  & 632 & 80160 & $\\dots$ \\\\\n",
       "\t28 & 2006 &  Schoharie  & 20,000 - 29,999 &  & 1769 & 43849 & $\\dots$ \\\\\n",
       "\t29 & 2003 &  Genesee  & 40,000 - 49,999 &  & 2154 & 96606 & $\\dots$ \\\\\n",
       "\t30 & 2007 &  Seneca  & 40,000 - 49,999 &  & 1174 & 52525 & $\\dots$ \\\\\n",
       "\t$\\dots$ & $\\dots$ & $\\dots$ & $\\dots$ & $\\dots$ & $\\dots$ & $\\dots$ &  \\\\\n",
       "\\end{tabular}\n"
      ],
      "text/plain": [
       "12589×13 DataFrame. Omitted printing of 9 columns\n",
       "│ Row   │ Year  │ County                   │ IncomeClass       │ Disclosure │\n",
       "│       │ \u001b[90mInt64\u001b[39m │ \u001b[90mString\u001b[39m                   │ \u001b[90mString\u001b[39m            │ \u001b[90mString⍰\u001b[39m    │\n",
       "├───────┼───────┼──────────────────────────┼───────────────────┼────────────┤\n",
       "│ 1     │ 2011  │ Hamilton                 │ 500,000 and over  │ d/         │\n",
       "│ 2     │ 2003  │  Dutchess                │ 100,000 - 199,999 │ \u001b[90mmissing\u001b[39m    │\n",
       "│ 3     │ 2001  │  Ontario                 │ Total             │ \u001b[90mmissing\u001b[39m    │\n",
       "│ 4     │ 2012  │ New York City - Richmond │ 30,000 - 39,999   │ \u001b[90mmissing\u001b[39m    │\n",
       "│ 5     │ 2007  │  Clinton                 │ 50,000 - 59,999   │ \u001b[90mmissing\u001b[39m    │\n",
       "│ 6     │ 1999  │  Saratoga                │ Total             │ \u001b[90mmissing\u001b[39m    │\n",
       "│ 7     │ 2010  │ Onondaga                 │ 60,000 - 74,999   │ \u001b[90mmissing\u001b[39m    │\n",
       "│ 8     │ 2008  │  Ulster                  │ 40,000 - 49,999   │ \u001b[90mmissing\u001b[39m    │\n",
       "│ 9     │ 2005  │  Clinton                 │ Total             │ \u001b[90mmissing\u001b[39m    │\n",
       "│ 10    │ 2007  │  Livingston              │ 200,000 - 249,999 │ \u001b[90mmissing\u001b[39m    │\n",
       "⋮\n",
       "│ 12579 │ 2013  │ Residence Unknown ++     │ 20,000 - 29,999   │ \u001b[90mmissing\u001b[39m    │\n",
       "│ 12580 │ 2013  │ Residence Unknown ++     │ 30,000 - 39,999   │ \u001b[90mmissing\u001b[39m    │\n",
       "│ 12581 │ 2013  │ Residence Unknown ++     │ 40,000 - 49,999   │ \u001b[90mmissing\u001b[39m    │\n",
       "│ 12582 │ 2013  │ Residence Unknown ++     │ 50,000 - 59,999   │ \u001b[90mmissing\u001b[39m    │\n",
       "│ 12583 │ 2013  │ Residence Unknown ++     │ 60,000 - 74,999   │ \u001b[90mmissing\u001b[39m    │\n",
       "│ 12584 │ 2013  │ Residence Unknown ++     │ 75,000 - 99,999   │ \u001b[90mmissing\u001b[39m    │\n",
       "│ 12585 │ 2013  │ Residence Unknown ++     │ 100,000 - 199,999 │ \u001b[90mmissing\u001b[39m    │\n",
       "│ 12586 │ 2013  │ Residence Unknown ++     │ 200,000 - 249,999 │ \u001b[90mmissing\u001b[39m    │\n",
       "│ 12587 │ 2013  │ Residence Unknown ++     │ 250,000 - 499,999 │ \u001b[90mmissing\u001b[39m    │\n",
       "│ 12588 │ 2013  │ Residence Unknown ++     │ 500,000 and over  │ \u001b[90mmissing\u001b[39m    │\n",
       "│ 12589 │ 2013  │ Residence Unknown ++     │ Total             │ \u001b[90mmissing\u001b[39m    │"
      ]
     },
     "execution_count": 4,
     "metadata": {},
     "output_type": "execute_result"
    }
   ],
   "source": [
    "# load data\n",
    "tax = CSV.read(\"incomeTaxData.csv\")"
   ]
  },
  {
   "cell_type": "markdown",
   "metadata": {},
   "source": [
    "You can see just from the first line of the dataset that the there are some rows with no returns associated with it. Let's delete those from the dataset.\n",
    "\n",
    "Also note that all of the data is in thousands of dollars."
   ]
  },
  {
   "cell_type": "code",
   "execution_count": 8,
   "metadata": {},
   "outputs": [],
   "source": [
    "# clean data\n",
    "tax = tax[.!(ismissing.(tax[:,:ReturnCount])), :];\n",
    "sort(tax, :Year)\n",
    "\n",
    "# create new columns\n",
    "tax[!,:avg_tax] = tax[:,:TotalTaxLiability]./tax[:,:ReturnCount];"
   ]
  },
  {
   "cell_type": "markdown",
   "metadata": {},
   "source": [
    "# a)"
   ]
  },
  {
   "cell_type": "markdown",
   "metadata": {},
   "source": [
    "Plot the number of returns in Tompkins County over time.\n",
    "（you should draw the plot for each income class and ignore the rows with the class of 'Total'.）\n"
   ]
  },
  {
   "cell_type": "code",
   "execution_count": 25,
   "metadata": {},
   "outputs": [
    {
     "name": "stderr",
     "output_type": "stream",
     "text": [
      "┌ Warning: `getindex(df::DataFrame, col_ind::ColumnIndex)` is deprecated, use `df[!, col_ind]` instead.\n",
      "│   caller = top-level scope at In[25]:2\n",
      "└ @ Core In[25]:2\n",
      "┌ Warning: `getindex(df::DataFrame, col_ind::ColumnIndex)` is deprecated, use `df[!, col_ind]` instead.\n",
      "│   caller = top-level scope at In[25]:3\n",
      "└ @ Core In[25]:3\n"
     ]
    },
    {
     "data": {
      "text/html": [
       "<table class=\"data-frame\"><thead><tr><th></th><th>Year</th><th>County</th><th>IncomeClass</th><th>Disclosure</th><th>ReturnCount</th><th>TotalIncome</th><th>TotalDeductions</th></tr><tr><th></th><th>Int64</th><th>String</th><th>String</th><th>String⍰</th><th>Int64⍰</th><th>Int64⍰</th><th>Int64⍰</th></tr></thead><tbody><p>65 rows × 14 columns (omitted printing of 7 columns)</p><tr><th>1</th><td>2009</td><td>Tompkins</td><td>Under 5,000</td><td>missing</td><td>5269</td><td>-12834</td><td>9282</td></tr><tr><th>2</th><td>2009</td><td>Tompkins</td><td>20,000 - 29,999</td><td>missing</td><td>5189</td><td>130154</td><td>50860</td></tr><tr><th>3</th><td>2009</td><td>Tompkins</td><td>500,000 and over</td><td>missing</td><td>126</td><td>158415</td><td>6080</td></tr><tr><th>4</th><td>2009</td><td>Tompkins</td><td>200,000 - 249,999</td><td>missing</td><td>440</td><td>97273</td><td>10664</td></tr><tr><th>5</th><td>2009</td><td>Tompkins</td><td>30,000 - 39,999</td><td>missing</td><td>3924</td><td>136564</td><td>42734</td></tr><tr><th>6</th><td>2009</td><td>Tompkins</td><td>40,000 - 49,999</td><td>missing</td><td>2803</td><td>125496</td><td>33461</td></tr><tr><th>7</th><td>2009</td><td>Tompkins</td><td>100,000 - 199,999</td><td>missing</td><td>3693</td><td>495533</td><td>73200</td></tr><tr><th>8</th><td>2009</td><td>Tompkins</td><td>50,000 - 59,999</td><td>missing</td><td>2260</td><td>123825</td><td>29899</td></tr><tr><th>9</th><td>2009</td><td>Tompkins</td><td>5,000 - 9,999</td><td>missing</td><td>3211</td><td>23702</td><td>20262</td></tr><tr><th>10</th><td>2009</td><td>Tompkins</td><td>60,000 - 74,999</td><td>missing</td><td>2509</td><td>168717</td><td>36305</td></tr><tr><th>11</th><td>2009</td><td>Tompkins</td><td>10,000 - 19,999</td><td>missing</td><td>5286</td><td>78126</td><td>47872</td></tr><tr><th>12</th><td>2009</td><td>Tompkins</td><td>250,000 - 499,999</td><td>missing</td><td>501</td><td>166062</td><td>12985</td></tr><tr><th>13</th><td>2009</td><td>Tompkins</td><td>75,000 - 99,999</td><td>missing</td><td>2915</td><td>252353</td><td>46973</td></tr><tr><th>14</th><td>2010</td><td>Tompkins</td><td>10,000 - 19,999</td><td>missing</td><td>5439</td><td>80584</td><td>49085</td></tr><tr><th>15</th><td>2010</td><td>Tompkins</td><td>500,000 and over</td><td>missing</td><td>145</td><td>189512</td><td>9722</td></tr><tr><th>16</th><td>2010</td><td>Tompkins</td><td>Under 5,000</td><td>missing</td><td>5219</td><td>-17579</td><td>9265</td></tr><tr><th>17</th><td>2010</td><td>Tompkins</td><td>50,000 - 59,999</td><td>missing</td><td>2298</td><td>125914</td><td>30311</td></tr><tr><th>18</th><td>2010</td><td>Tompkins</td><td>20,000 - 29,999</td><td>missing</td><td>5214</td><td>131011</td><td>50968</td></tr><tr><th>19</th><td>2010</td><td>Tompkins</td><td>75,000 - 99,999</td><td>missing</td><td>2942</td><td>254103</td><td>47472</td></tr><tr><th>20</th><td>2010</td><td>Tompkins</td><td>60,000 - 74,999</td><td>missing</td><td>2492</td><td>167184</td><td>36280</td></tr><tr><th>21</th><td>2010</td><td>Tompkins</td><td>250,000 - 499,999</td><td>missing</td><td>554</td><td>184093</td><td>14815</td></tr><tr><th>22</th><td>2010</td><td>Tompkins</td><td>5,000 - 9,999</td><td>missing</td><td>3402</td><td>25088</td><td>21341</td></tr><tr><th>23</th><td>2010</td><td>Tompkins</td><td>30,000 - 39,999</td><td>missing</td><td>3857</td><td>133646</td><td>41631</td></tr><tr><th>24</th><td>2010</td><td>Tompkins</td><td>200,000 - 249,999</td><td>missing</td><td>428</td><td>95033</td><td>10666</td></tr><tr><th>25</th><td>2010</td><td>Tompkins</td><td>100,000 - 199,999</td><td>missing</td><td>3756</td><td>501792</td><td>73809</td></tr><tr><th>26</th><td>2010</td><td>Tompkins</td><td>40,000 - 49,999</td><td>missing</td><td>2846</td><td>127166</td><td>33501</td></tr><tr><th>27</th><td>2011</td><td>Tompkins</td><td>100,000 - 199,999</td><td>missing</td><td>3922</td><td>525719</td><td>76645</td></tr><tr><th>28</th><td>2011</td><td>Tompkins</td><td>Under 5,000</td><td>missing</td><td>5388</td><td>-13002</td><td>9483</td></tr><tr><th>29</th><td>2011</td><td>Tompkins</td><td>40,000 - 49,999</td><td>missing</td><td>2952</td><td>132156</td><td>35045</td></tr><tr><th>30</th><td>2011</td><td>Tompkins</td><td>30,000 - 39,999</td><td>missing</td><td>4047</td><td>140022</td><td>42397</td></tr><tr><th>&vellip;</th><td>&vellip;</td><td>&vellip;</td><td>&vellip;</td><td>&vellip;</td><td>&vellip;</td><td>&vellip;</td><td>&vellip;</td></tr></tbody></table>"
      ],
      "text/latex": [
       "\\begin{tabular}{r|cccccccc}\n",
       "\t& Year & County & IncomeClass & Disclosure & ReturnCount & TotalIncome & TotalDeductions & \\\\\n",
       "\t\\hline\n",
       "\t& Int64 & String & String & String⍰ & Int64⍰ & Int64⍰ & Int64⍰ & \\\\\n",
       "\t\\hline\n",
       "\t1 & 2009 & Tompkins & Under 5,000 &  & 5269 & -12834 & 9282 & $\\dots$ \\\\\n",
       "\t2 & 2009 & Tompkins & 20,000 - 29,999 &  & 5189 & 130154 & 50860 & $\\dots$ \\\\\n",
       "\t3 & 2009 & Tompkins & 500,000 and over &  & 126 & 158415 & 6080 & $\\dots$ \\\\\n",
       "\t4 & 2009 & Tompkins & 200,000 - 249,999 &  & 440 & 97273 & 10664 & $\\dots$ \\\\\n",
       "\t5 & 2009 & Tompkins & 30,000 - 39,999 &  & 3924 & 136564 & 42734 & $\\dots$ \\\\\n",
       "\t6 & 2009 & Tompkins & 40,000 - 49,999 &  & 2803 & 125496 & 33461 & $\\dots$ \\\\\n",
       "\t7 & 2009 & Tompkins & 100,000 - 199,999 &  & 3693 & 495533 & 73200 & $\\dots$ \\\\\n",
       "\t8 & 2009 & Tompkins & 50,000 - 59,999 &  & 2260 & 123825 & 29899 & $\\dots$ \\\\\n",
       "\t9 & 2009 & Tompkins & 5,000 - 9,999 &  & 3211 & 23702 & 20262 & $\\dots$ \\\\\n",
       "\t10 & 2009 & Tompkins & 60,000 - 74,999 &  & 2509 & 168717 & 36305 & $\\dots$ \\\\\n",
       "\t11 & 2009 & Tompkins & 10,000 - 19,999 &  & 5286 & 78126 & 47872 & $\\dots$ \\\\\n",
       "\t12 & 2009 & Tompkins & 250,000 - 499,999 &  & 501 & 166062 & 12985 & $\\dots$ \\\\\n",
       "\t13 & 2009 & Tompkins & 75,000 - 99,999 &  & 2915 & 252353 & 46973 & $\\dots$ \\\\\n",
       "\t14 & 2010 & Tompkins & 10,000 - 19,999 &  & 5439 & 80584 & 49085 & $\\dots$ \\\\\n",
       "\t15 & 2010 & Tompkins & 500,000 and over &  & 145 & 189512 & 9722 & $\\dots$ \\\\\n",
       "\t16 & 2010 & Tompkins & Under 5,000 &  & 5219 & -17579 & 9265 & $\\dots$ \\\\\n",
       "\t17 & 2010 & Tompkins & 50,000 - 59,999 &  & 2298 & 125914 & 30311 & $\\dots$ \\\\\n",
       "\t18 & 2010 & Tompkins & 20,000 - 29,999 &  & 5214 & 131011 & 50968 & $\\dots$ \\\\\n",
       "\t19 & 2010 & Tompkins & 75,000 - 99,999 &  & 2942 & 254103 & 47472 & $\\dots$ \\\\\n",
       "\t20 & 2010 & Tompkins & 60,000 - 74,999 &  & 2492 & 167184 & 36280 & $\\dots$ \\\\\n",
       "\t21 & 2010 & Tompkins & 250,000 - 499,999 &  & 554 & 184093 & 14815 & $\\dots$ \\\\\n",
       "\t22 & 2010 & Tompkins & 5,000 - 9,999 &  & 3402 & 25088 & 21341 & $\\dots$ \\\\\n",
       "\t23 & 2010 & Tompkins & 30,000 - 39,999 &  & 3857 & 133646 & 41631 & $\\dots$ \\\\\n",
       "\t24 & 2010 & Tompkins & 200,000 - 249,999 &  & 428 & 95033 & 10666 & $\\dots$ \\\\\n",
       "\t25 & 2010 & Tompkins & 100,000 - 199,999 &  & 3756 & 501792 & 73809 & $\\dots$ \\\\\n",
       "\t26 & 2010 & Tompkins & 40,000 - 49,999 &  & 2846 & 127166 & 33501 & $\\dots$ \\\\\n",
       "\t27 & 2011 & Tompkins & 100,000 - 199,999 &  & 3922 & 525719 & 76645 & $\\dots$ \\\\\n",
       "\t28 & 2011 & Tompkins & Under 5,000 &  & 5388 & -13002 & 9483 & $\\dots$ \\\\\n",
       "\t29 & 2011 & Tompkins & 40,000 - 49,999 &  & 2952 & 132156 & 35045 & $\\dots$ \\\\\n",
       "\t30 & 2011 & Tompkins & 30,000 - 39,999 &  & 4047 & 140022 & 42397 & $\\dots$ \\\\\n",
       "\t$\\dots$ & $\\dots$ & $\\dots$ & $\\dots$ & $\\dots$ & $\\dots$ & $\\dots$ & $\\dots$ &  \\\\\n",
       "\\end{tabular}\n"
      ],
      "text/plain": [
       "65×14 DataFrame. Omitted printing of 9 columns\n",
       "│ Row │ Year  │ County   │ IncomeClass       │ Disclosure │ ReturnCount │\n",
       "│     │ \u001b[90mInt64\u001b[39m │ \u001b[90mString\u001b[39m   │ \u001b[90mString\u001b[39m            │ \u001b[90mString⍰\u001b[39m    │ \u001b[90mInt64⍰\u001b[39m      │\n",
       "├─────┼───────┼──────────┼───────────────────┼────────────┼─────────────┤\n",
       "│ 1   │ 2009  │ Tompkins │ Under 5,000       │ \u001b[90mmissing\u001b[39m    │ 5269        │\n",
       "│ 2   │ 2009  │ Tompkins │ 20,000 - 29,999   │ \u001b[90mmissing\u001b[39m    │ 5189        │\n",
       "│ 3   │ 2009  │ Tompkins │ 500,000 and over  │ \u001b[90mmissing\u001b[39m    │ 126         │\n",
       "│ 4   │ 2009  │ Tompkins │ 200,000 - 249,999 │ \u001b[90mmissing\u001b[39m    │ 440         │\n",
       "│ 5   │ 2009  │ Tompkins │ 30,000 - 39,999   │ \u001b[90mmissing\u001b[39m    │ 3924        │\n",
       "│ 6   │ 2009  │ Tompkins │ 40,000 - 49,999   │ \u001b[90mmissing\u001b[39m    │ 2803        │\n",
       "│ 7   │ 2009  │ Tompkins │ 100,000 - 199,999 │ \u001b[90mmissing\u001b[39m    │ 3693        │\n",
       "│ 8   │ 2009  │ Tompkins │ 50,000 - 59,999   │ \u001b[90mmissing\u001b[39m    │ 2260        │\n",
       "│ 9   │ 2009  │ Tompkins │ 5,000 - 9,999     │ \u001b[90mmissing\u001b[39m    │ 3211        │\n",
       "│ 10  │ 2009  │ Tompkins │ 60,000 - 74,999   │ \u001b[90mmissing\u001b[39m    │ 2509        │\n",
       "⋮\n",
       "│ 55  │ 2013  │ Tompkins │ 10,000 - 19,999   │ \u001b[90mmissing\u001b[39m    │ 5241        │\n",
       "│ 56  │ 2013  │ Tompkins │ 20,000 - 29,999   │ \u001b[90mmissing\u001b[39m    │ 4596        │\n",
       "│ 57  │ 2013  │ Tompkins │ 30,000 - 39,999   │ \u001b[90mmissing\u001b[39m    │ 4133        │\n",
       "│ 58  │ 2013  │ Tompkins │ 40,000 - 49,999   │ \u001b[90mmissing\u001b[39m    │ 3003        │\n",
       "│ 59  │ 2013  │ Tompkins │ 50,000 - 59,999   │ \u001b[90mmissing\u001b[39m    │ 2218        │\n",
       "│ 60  │ 2013  │ Tompkins │ 60,000 - 74,999   │ \u001b[90mmissing\u001b[39m    │ 2435        │\n",
       "│ 61  │ 2013  │ Tompkins │ 75,000 - 99,999   │ \u001b[90mmissing\u001b[39m    │ 2888        │\n",
       "│ 62  │ 2013  │ Tompkins │ 100,000 - 199,999 │ \u001b[90mmissing\u001b[39m    │ 4200        │\n",
       "│ 63  │ 2013  │ Tompkins │ 200,000 - 249,999 │ \u001b[90mmissing\u001b[39m    │ 533         │\n",
       "│ 64  │ 2013  │ Tompkins │ 250,000 - 499,999 │ \u001b[90mmissing\u001b[39m    │ 709         │\n",
       "│ 65  │ 2013  │ Tompkins │ 500,000 and over  │ \u001b[90mmissing\u001b[39m    │ 200         │"
      ]
     },
     "execution_count": 25,
     "metadata": {},
     "output_type": "execute_result"
    }
   ],
   "source": [
    "tax = sort(tax, cols = :Year)\n",
    "tompkins = tax[tax[:County] .== \"Tompkins\",:]\n",
    "cleaned = tompkins[tompkins[:IncomeClass] .!= \"Total\",:]"
   ]
  },
  {
   "cell_type": "code",
   "execution_count": 26,
   "metadata": {},
   "outputs": [
    {
     "data": {
      "image/svg+xml": [
       "<?xml version=\"1.0\" encoding=\"utf-8\"?>\n",
       "<svg xmlns=\"http://www.w3.org/2000/svg\" xmlns:xlink=\"http://www.w3.org/1999/xlink\" width=\"600\" height=\"400\" viewBox=\"0 0 2400 1600\">\n",
       "<defs>\n",
       "  <clipPath id=\"clip8800\">\n",
       "    <rect x=\"0\" y=\"0\" width=\"2400\" height=\"1600\"/>\n",
       "  </clipPath>\n",
       "</defs>\n",
       "<polygon clip-path=\"url(#clip8800)\" points=\"\n",
       "0,1600 2400,1600 2400,0 0,0 \n",
       "  \" fill=\"#ffffff\" fill-rule=\"evenodd\" fill-opacity=\"1\"/>\n",
       "<defs>\n",
       "  <clipPath id=\"clip8801\">\n",
       "    <rect x=\"480\" y=\"0\" width=\"1681\" height=\"1600\"/>\n",
       "  </clipPath>\n",
       "</defs>\n",
       "<polygon clip-path=\"url(#clip8800)\" points=\"\n",
       "194.041,1487.47 2352.76,1487.47 2352.76,47.2441 194.041,47.2441 \n",
       "  \" fill=\"#ffffff\" fill-rule=\"evenodd\" fill-opacity=\"1\"/>\n",
       "<defs>\n",
       "  <clipPath id=\"clip8802\">\n",
       "    <rect x=\"194\" y=\"47\" width=\"2160\" height=\"1441\"/>\n",
       "  </clipPath>\n",
       "</defs>\n",
       "<polyline clip-path=\"url(#clip8802)\" style=\"stroke:#000000; stroke-width:2; stroke-opacity:0.1; fill:none\" points=\"\n",
       "  255.137,1487.47 255.137,47.2441 \n",
       "  \"/>\n",
       "<polyline clip-path=\"url(#clip8802)\" style=\"stroke:#000000; stroke-width:2; stroke-opacity:0.1; fill:none\" points=\"\n",
       "  764.268,1487.47 764.268,47.2441 \n",
       "  \"/>\n",
       "<polyline clip-path=\"url(#clip8802)\" style=\"stroke:#000000; stroke-width:2; stroke-opacity:0.1; fill:none\" points=\"\n",
       "  1273.4,1487.47 1273.4,47.2441 \n",
       "  \"/>\n",
       "<polyline clip-path=\"url(#clip8802)\" style=\"stroke:#000000; stroke-width:2; stroke-opacity:0.1; fill:none\" points=\"\n",
       "  1782.53,1487.47 1782.53,47.2441 \n",
       "  \"/>\n",
       "<polyline clip-path=\"url(#clip8802)\" style=\"stroke:#000000; stroke-width:2; stroke-opacity:0.1; fill:none\" points=\"\n",
       "  2291.66,1487.47 2291.66,47.2441 \n",
       "  \"/>\n",
       "<polyline clip-path=\"url(#clip8802)\" style=\"stroke:#000000; stroke-width:2; stroke-opacity:0.1; fill:none\" points=\"\n",
       "  194.041,1478.88 2352.76,1478.88 \n",
       "  \"/>\n",
       "<polyline clip-path=\"url(#clip8802)\" style=\"stroke:#000000; stroke-width:2; stroke-opacity:0.1; fill:none\" points=\"\n",
       "  194.041,1223.62 2352.76,1223.62 \n",
       "  \"/>\n",
       "<polyline clip-path=\"url(#clip8802)\" style=\"stroke:#000000; stroke-width:2; stroke-opacity:0.1; fill:none\" points=\"\n",
       "  194.041,968.371 2352.76,968.371 \n",
       "  \"/>\n",
       "<polyline clip-path=\"url(#clip8802)\" style=\"stroke:#000000; stroke-width:2; stroke-opacity:0.1; fill:none\" points=\"\n",
       "  194.041,713.118 2352.76,713.118 \n",
       "  \"/>\n",
       "<polyline clip-path=\"url(#clip8802)\" style=\"stroke:#000000; stroke-width:2; stroke-opacity:0.1; fill:none\" points=\"\n",
       "  194.041,457.866 2352.76,457.866 \n",
       "  \"/>\n",
       "<polyline clip-path=\"url(#clip8802)\" style=\"stroke:#000000; stroke-width:2; stroke-opacity:0.1; fill:none\" points=\"\n",
       "  194.041,202.614 2352.76,202.614 \n",
       "  \"/>\n",
       "<polyline clip-path=\"url(#clip8800)\" style=\"stroke:#000000; stroke-width:4; stroke-opacity:1; fill:none\" points=\"\n",
       "  194.041,1487.47 2352.76,1487.47 \n",
       "  \"/>\n",
       "<polyline clip-path=\"url(#clip8800)\" style=\"stroke:#000000; stroke-width:4; stroke-opacity:1; fill:none\" points=\"\n",
       "  194.041,1487.47 194.041,47.2441 \n",
       "  \"/>\n",
       "<polyline clip-path=\"url(#clip8800)\" style=\"stroke:#000000; stroke-width:4; stroke-opacity:1; fill:none\" points=\"\n",
       "  255.137,1487.47 255.137,1465.87 \n",
       "  \"/>\n",
       "<polyline clip-path=\"url(#clip8800)\" style=\"stroke:#000000; stroke-width:4; stroke-opacity:1; fill:none\" points=\"\n",
       "  764.268,1487.47 764.268,1465.87 \n",
       "  \"/>\n",
       "<polyline clip-path=\"url(#clip8800)\" style=\"stroke:#000000; stroke-width:4; stroke-opacity:1; fill:none\" points=\"\n",
       "  1273.4,1487.47 1273.4,1465.87 \n",
       "  \"/>\n",
       "<polyline clip-path=\"url(#clip8800)\" style=\"stroke:#000000; stroke-width:4; stroke-opacity:1; fill:none\" points=\"\n",
       "  1782.53,1487.47 1782.53,1465.87 \n",
       "  \"/>\n",
       "<polyline clip-path=\"url(#clip8800)\" style=\"stroke:#000000; stroke-width:4; stroke-opacity:1; fill:none\" points=\"\n",
       "  2291.66,1487.47 2291.66,1465.87 \n",
       "  \"/>\n",
       "<polyline clip-path=\"url(#clip8800)\" style=\"stroke:#000000; stroke-width:4; stroke-opacity:1; fill:none\" points=\"\n",
       "  194.041,1478.88 226.422,1478.88 \n",
       "  \"/>\n",
       "<polyline clip-path=\"url(#clip8800)\" style=\"stroke:#000000; stroke-width:4; stroke-opacity:1; fill:none\" points=\"\n",
       "  194.041,1223.62 226.422,1223.62 \n",
       "  \"/>\n",
       "<polyline clip-path=\"url(#clip8800)\" style=\"stroke:#000000; stroke-width:4; stroke-opacity:1; fill:none\" points=\"\n",
       "  194.041,968.371 226.422,968.371 \n",
       "  \"/>\n",
       "<polyline clip-path=\"url(#clip8800)\" style=\"stroke:#000000; stroke-width:4; stroke-opacity:1; fill:none\" points=\"\n",
       "  194.041,713.118 226.422,713.118 \n",
       "  \"/>\n",
       "<polyline clip-path=\"url(#clip8800)\" style=\"stroke:#000000; stroke-width:4; stroke-opacity:1; fill:none\" points=\"\n",
       "  194.041,457.866 226.422,457.866 \n",
       "  \"/>\n",
       "<polyline clip-path=\"url(#clip8800)\" style=\"stroke:#000000; stroke-width:4; stroke-opacity:1; fill:none\" points=\"\n",
       "  194.041,202.614 226.422,202.614 \n",
       "  \"/>\n",
       "<g clip-path=\"url(#clip8800)\">\n",
       "<text style=\"fill:#000000; fill-opacity:1; font-family:Arial,Helvetica Neue,Helvetica,sans-serif; font-size:48px; text-anchor:middle;\" transform=\"rotate(0, 255.137, 1541.47)\" x=\"255.137\" y=\"1541.47\">2009</text>\n",
       "</g>\n",
       "<g clip-path=\"url(#clip8800)\">\n",
       "<text style=\"fill:#000000; fill-opacity:1; font-family:Arial,Helvetica Neue,Helvetica,sans-serif; font-size:48px; text-anchor:middle;\" transform=\"rotate(0, 764.268, 1541.47)\" x=\"764.268\" y=\"1541.47\">2010</text>\n",
       "</g>\n",
       "<g clip-path=\"url(#clip8800)\">\n",
       "<text style=\"fill:#000000; fill-opacity:1; font-family:Arial,Helvetica Neue,Helvetica,sans-serif; font-size:48px; text-anchor:middle;\" transform=\"rotate(0, 1273.4, 1541.47)\" x=\"1273.4\" y=\"1541.47\">2011</text>\n",
       "</g>\n",
       "<g clip-path=\"url(#clip8800)\">\n",
       "<text style=\"fill:#000000; fill-opacity:1; font-family:Arial,Helvetica Neue,Helvetica,sans-serif; font-size:48px; text-anchor:middle;\" transform=\"rotate(0, 1782.53, 1541.47)\" x=\"1782.53\" y=\"1541.47\">2012</text>\n",
       "</g>\n",
       "<g clip-path=\"url(#clip8800)\">\n",
       "<text style=\"fill:#000000; fill-opacity:1; font-family:Arial,Helvetica Neue,Helvetica,sans-serif; font-size:48px; text-anchor:middle;\" transform=\"rotate(0, 2291.66, 1541.47)\" x=\"2291.66\" y=\"1541.47\">2013</text>\n",
       "</g>\n",
       "<g clip-path=\"url(#clip8800)\">\n",
       "<text style=\"fill:#000000; fill-opacity:1; font-family:Arial,Helvetica Neue,Helvetica,sans-serif; font-size:48px; text-anchor:end;\" transform=\"rotate(0, 170.041, 1496.38)\" x=\"170.041\" y=\"1496.38\">0</text>\n",
       "</g>\n",
       "<g clip-path=\"url(#clip8800)\">\n",
       "<text style=\"fill:#000000; fill-opacity:1; font-family:Arial,Helvetica Neue,Helvetica,sans-serif; font-size:48px; text-anchor:end;\" transform=\"rotate(0, 170.041, 1241.12)\" x=\"170.041\" y=\"1241.12\">1000</text>\n",
       "</g>\n",
       "<g clip-path=\"url(#clip8800)\">\n",
       "<text style=\"fill:#000000; fill-opacity:1; font-family:Arial,Helvetica Neue,Helvetica,sans-serif; font-size:48px; text-anchor:end;\" transform=\"rotate(0, 170.041, 985.871)\" x=\"170.041\" y=\"985.871\">2000</text>\n",
       "</g>\n",
       "<g clip-path=\"url(#clip8800)\">\n",
       "<text style=\"fill:#000000; fill-opacity:1; font-family:Arial,Helvetica Neue,Helvetica,sans-serif; font-size:48px; text-anchor:end;\" transform=\"rotate(0, 170.041, 730.618)\" x=\"170.041\" y=\"730.618\">3000</text>\n",
       "</g>\n",
       "<g clip-path=\"url(#clip8800)\">\n",
       "<text style=\"fill:#000000; fill-opacity:1; font-family:Arial,Helvetica Neue,Helvetica,sans-serif; font-size:48px; text-anchor:end;\" transform=\"rotate(0, 170.041, 475.366)\" x=\"170.041\" y=\"475.366\">4000</text>\n",
       "</g>\n",
       "<g clip-path=\"url(#clip8800)\">\n",
       "<text style=\"fill:#000000; fill-opacity:1; font-family:Arial,Helvetica Neue,Helvetica,sans-serif; font-size:48px; text-anchor:end;\" transform=\"rotate(0, 170.041, 220.114)\" x=\"170.041\" y=\"220.114\">5000</text>\n",
       "</g>\n",
       "<polyline clip-path=\"url(#clip8802)\" style=\"stroke:#009af9; stroke-width:4; stroke-opacity:1; fill:none\" points=\"\n",
       "  255.137,129.611 764.268,90.5579 1273.4,88.0053 1782.53,132.93 2291.66,141.098 \n",
       "  \"/>\n",
       "<polyline clip-path=\"url(#clip8802)\" style=\"stroke:#e26f46; stroke-width:4; stroke-opacity:1; fill:none\" points=\"\n",
       "  255.137,536.228 764.268,520.148 1273.4,477.776 1782.53,470.629 2291.66,406.815 \n",
       "  \"/>\n",
       "<polyline clip-path=\"url(#clip8802)\" style=\"stroke:#3da44d; stroke-width:4; stroke-opacity:1; fill:none\" points=\"\n",
       "  255.137,154.371 764.268,147.99 1273.4,186.533 1782.53,230.181 2291.66,305.736 \n",
       "  \"/>\n",
       "<polyline clip-path=\"url(#clip8802)\" style=\"stroke:#c271d2; stroke-width:4; stroke-opacity:1; fill:none\" points=\"\n",
       "  255.137,1366.56 764.268,1369.63 1273.4,1358.65 1782.53,1343.85 2291.66,1342.83 \n",
       "  \"/>\n",
       "<polyline clip-path=\"url(#clip8802)\" style=\"stroke:#ac8d18; stroke-width:4; stroke-opacity:1; fill:none\" points=\"\n",
       "  255.137,1350.99 764.268,1337.47 1273.4,1329.3 1782.53,1313.47 2291.66,1297.9 \n",
       "  \"/>\n",
       "<polyline clip-path=\"url(#clip8802)\" style=\"stroke:#00a9ad; stroke-width:4; stroke-opacity:1; fill:none\" points=\"\n",
       "  255.137,477.265 764.268,494.367 1273.4,445.869 1782.53,441.019 2291.66,423.917 \n",
       "  \"/>\n",
       "<polyline clip-path=\"url(#clip8802)\" style=\"stroke:#ed5d92; stroke-width:4; stroke-opacity:1; fill:none\" points=\"\n",
       "  255.137,763.403 764.268,752.427 1273.4,725.37 1782.53,720.01 2291.66,712.353 \n",
       "  \"/>\n",
       "<polyline clip-path=\"url(#clip8802)\" style=\"stroke:#c68125; stroke-width:4; stroke-opacity:1; fill:none\" points=\"\n",
       "  255.137,659.26 764.268,610.507 1273.4,638.074 1782.53,685.551 2291.66,686.317 \n",
       "  \"/>\n",
       "<polyline clip-path=\"url(#clip8802)\" style=\"stroke:#00a98d; stroke-width:4; stroke-opacity:1; fill:none\" points=\"\n",
       "  255.137,902.005 764.268,892.305 1273.4,933.401 1782.53,917.575 2291.66,912.726 \n",
       "  \"/>\n",
       "<polyline clip-path=\"url(#clip8802)\" style=\"stroke:#8e971d; stroke-width:4; stroke-opacity:1; fill:none\" points=\"\n",
       "  255.137,1446.71 764.268,1441.86 1273.4,1435.23 1782.53,1422.21 2291.66,1427.82 \n",
       "  \"/>\n",
       "<polyline clip-path=\"url(#clip8802)\" style=\"stroke:#00a8cb; stroke-width:4; stroke-opacity:1; fill:none\" points=\"\n",
       "  255.137,838.447 764.268,842.786 1273.4,839.213 1782.53,847.381 2291.66,857.336 \n",
       "  \"/>\n",
       "<polyline clip-path=\"url(#clip8802)\" style=\"stroke:#9b7fe8; stroke-width:4; stroke-opacity:1; fill:none\" points=\"\n",
       "  255.137,734.815 764.268,727.923 1273.4,728.689 1782.53,734.559 2291.66,741.707 \n",
       "  \"/>\n",
       "<polyline clip-path=\"url(#clip8802)\" style=\"stroke:#608cf6; stroke-width:4; stroke-opacity:1; fill:none\" points=\"\n",
       "  255.137,133.951 764.268,146.713 1273.4,103.576 1782.53,132.93 2291.66,147.99 \n",
       "  \"/>\n",
       "<polygon clip-path=\"url(#clip8800)\" points=\"\n",
       "1637.97,977.484 2280.76,977.484 2280.76,130.764 1637.97,130.764 \n",
       "  \" fill=\"#ffffff\" fill-rule=\"evenodd\" fill-opacity=\"1\"/>\n",
       "<polyline clip-path=\"url(#clip8800)\" style=\"stroke:#000000; stroke-width:4; stroke-opacity:1; fill:none\" points=\"\n",
       "  1637.97,977.484 2280.76,977.484 2280.76,130.764 1637.97,130.764 1637.97,977.484 \n",
       "  \"/>\n",
       "<polyline clip-path=\"url(#clip8800)\" style=\"stroke:#009af9; stroke-width:4; stroke-opacity:1; fill:none\" points=\"\n",
       "  1661.97,191.244 1805.97,191.244 \n",
       "  \"/>\n",
       "<g clip-path=\"url(#clip8800)\">\n",
       "<text style=\"fill:#000000; fill-opacity:1; font-family:Arial,Helvetica Neue,Helvetica,sans-serif; font-size:48px; text-anchor:start;\" transform=\"rotate(0, 1829.97, 208.744)\" x=\"1829.97\" y=\"208.744\">10,000 - 19,999</text>\n",
       "</g>\n",
       "<polyline clip-path=\"url(#clip8800)\" style=\"stroke:#e26f46; stroke-width:4; stroke-opacity:1; fill:none\" points=\"\n",
       "  1661.97,251.724 1805.97,251.724 \n",
       "  \"/>\n",
       "<g clip-path=\"url(#clip8800)\">\n",
       "<text style=\"fill:#000000; fill-opacity:1; font-family:Arial,Helvetica Neue,Helvetica,sans-serif; font-size:48px; text-anchor:start;\" transform=\"rotate(0, 1829.97, 269.224)\" x=\"1829.97\" y=\"269.224\">100,000 - 199,999</text>\n",
       "</g>\n",
       "<polyline clip-path=\"url(#clip8800)\" style=\"stroke:#3da44d; stroke-width:4; stroke-opacity:1; fill:none\" points=\"\n",
       "  1661.97,312.204 1805.97,312.204 \n",
       "  \"/>\n",
       "<g clip-path=\"url(#clip8800)\">\n",
       "<text style=\"fill:#000000; fill-opacity:1; font-family:Arial,Helvetica Neue,Helvetica,sans-serif; font-size:48px; text-anchor:start;\" transform=\"rotate(0, 1829.97, 329.704)\" x=\"1829.97\" y=\"329.704\">20,000 - 29,999</text>\n",
       "</g>\n",
       "<polyline clip-path=\"url(#clip8800)\" style=\"stroke:#c271d2; stroke-width:4; stroke-opacity:1; fill:none\" points=\"\n",
       "  1661.97,372.684 1805.97,372.684 \n",
       "  \"/>\n",
       "<g clip-path=\"url(#clip8800)\">\n",
       "<text style=\"fill:#000000; fill-opacity:1; font-family:Arial,Helvetica Neue,Helvetica,sans-serif; font-size:48px; text-anchor:start;\" transform=\"rotate(0, 1829.97, 390.184)\" x=\"1829.97\" y=\"390.184\">200,000 - 249,999</text>\n",
       "</g>\n",
       "<polyline clip-path=\"url(#clip8800)\" style=\"stroke:#ac8d18; stroke-width:4; stroke-opacity:1; fill:none\" points=\"\n",
       "  1661.97,433.164 1805.97,433.164 \n",
       "  \"/>\n",
       "<g clip-path=\"url(#clip8800)\">\n",
       "<text style=\"fill:#000000; fill-opacity:1; font-family:Arial,Helvetica Neue,Helvetica,sans-serif; font-size:48px; text-anchor:start;\" transform=\"rotate(0, 1829.97, 450.664)\" x=\"1829.97\" y=\"450.664\">250,000 - 499,999</text>\n",
       "</g>\n",
       "<polyline clip-path=\"url(#clip8800)\" style=\"stroke:#00a9ad; stroke-width:4; stroke-opacity:1; fill:none\" points=\"\n",
       "  1661.97,493.644 1805.97,493.644 \n",
       "  \"/>\n",
       "<g clip-path=\"url(#clip8800)\">\n",
       "<text style=\"fill:#000000; fill-opacity:1; font-family:Arial,Helvetica Neue,Helvetica,sans-serif; font-size:48px; text-anchor:start;\" transform=\"rotate(0, 1829.97, 511.144)\" x=\"1829.97\" y=\"511.144\">30,000 - 39,999</text>\n",
       "</g>\n",
       "<polyline clip-path=\"url(#clip8800)\" style=\"stroke:#ed5d92; stroke-width:4; stroke-opacity:1; fill:none\" points=\"\n",
       "  1661.97,554.124 1805.97,554.124 \n",
       "  \"/>\n",
       "<g clip-path=\"url(#clip8800)\">\n",
       "<text style=\"fill:#000000; fill-opacity:1; font-family:Arial,Helvetica Neue,Helvetica,sans-serif; font-size:48px; text-anchor:start;\" transform=\"rotate(0, 1829.97, 571.624)\" x=\"1829.97\" y=\"571.624\">40,000 - 49,999</text>\n",
       "</g>\n",
       "<polyline clip-path=\"url(#clip8800)\" style=\"stroke:#c68125; stroke-width:4; stroke-opacity:1; fill:none\" points=\"\n",
       "  1661.97,614.604 1805.97,614.604 \n",
       "  \"/>\n",
       "<g clip-path=\"url(#clip8800)\">\n",
       "<text style=\"fill:#000000; fill-opacity:1; font-family:Arial,Helvetica Neue,Helvetica,sans-serif; font-size:48px; text-anchor:start;\" transform=\"rotate(0, 1829.97, 632.104)\" x=\"1829.97\" y=\"632.104\">5,000 - 9,999</text>\n",
       "</g>\n",
       "<polyline clip-path=\"url(#clip8800)\" style=\"stroke:#00a98d; stroke-width:4; stroke-opacity:1; fill:none\" points=\"\n",
       "  1661.97,675.084 1805.97,675.084 \n",
       "  \"/>\n",
       "<g clip-path=\"url(#clip8800)\">\n",
       "<text style=\"fill:#000000; fill-opacity:1; font-family:Arial,Helvetica Neue,Helvetica,sans-serif; font-size:48px; text-anchor:start;\" transform=\"rotate(0, 1829.97, 692.584)\" x=\"1829.97\" y=\"692.584\">50,000 - 59,999</text>\n",
       "</g>\n",
       "<polyline clip-path=\"url(#clip8800)\" style=\"stroke:#8e971d; stroke-width:4; stroke-opacity:1; fill:none\" points=\"\n",
       "  1661.97,735.564 1805.97,735.564 \n",
       "  \"/>\n",
       "<g clip-path=\"url(#clip8800)\">\n",
       "<text style=\"fill:#000000; fill-opacity:1; font-family:Arial,Helvetica Neue,Helvetica,sans-serif; font-size:48px; text-anchor:start;\" transform=\"rotate(0, 1829.97, 753.064)\" x=\"1829.97\" y=\"753.064\">500,000 and over</text>\n",
       "</g>\n",
       "<polyline clip-path=\"url(#clip8800)\" style=\"stroke:#00a8cb; stroke-width:4; stroke-opacity:1; fill:none\" points=\"\n",
       "  1661.97,796.044 1805.97,796.044 \n",
       "  \"/>\n",
       "<g clip-path=\"url(#clip8800)\">\n",
       "<text style=\"fill:#000000; fill-opacity:1; font-family:Arial,Helvetica Neue,Helvetica,sans-serif; font-size:48px; text-anchor:start;\" transform=\"rotate(0, 1829.97, 813.544)\" x=\"1829.97\" y=\"813.544\">60,000 - 74,999</text>\n",
       "</g>\n",
       "<polyline clip-path=\"url(#clip8800)\" style=\"stroke:#9b7fe8; stroke-width:4; stroke-opacity:1; fill:none\" points=\"\n",
       "  1661.97,856.524 1805.97,856.524 \n",
       "  \"/>\n",
       "<g clip-path=\"url(#clip8800)\">\n",
       "<text style=\"fill:#000000; fill-opacity:1; font-family:Arial,Helvetica Neue,Helvetica,sans-serif; font-size:48px; text-anchor:start;\" transform=\"rotate(0, 1829.97, 874.024)\" x=\"1829.97\" y=\"874.024\">75,000 - 99,999</text>\n",
       "</g>\n",
       "<polyline clip-path=\"url(#clip8800)\" style=\"stroke:#608cf6; stroke-width:4; stroke-opacity:1; fill:none\" points=\"\n",
       "  1661.97,917.004 1805.97,917.004 \n",
       "  \"/>\n",
       "<g clip-path=\"url(#clip8800)\">\n",
       "<text style=\"fill:#000000; fill-opacity:1; font-family:Arial,Helvetica Neue,Helvetica,sans-serif; font-size:48px; text-anchor:start;\" transform=\"rotate(0, 1829.97, 934.504)\" x=\"1829.97\" y=\"934.504\">Under 5,000</text>\n",
       "</g>\n",
       "</svg>\n"
      ]
     },
     "execution_count": 26,
     "metadata": {},
     "output_type": "execute_result"
    }
   ],
   "source": [
    "@df cleaned StatsPlots.plot(:Year, :ReturnCount, group=:IncomeClass)"
   ]
  },
  {
   "cell_type": "markdown",
   "metadata": {},
   "source": [
    "\n",
    "Plot the average income tax per return in Tompkins County (disregarding income tax).\n",
    "（you could add up the all income classes (except 'Total') to calculate the weighted average tax OR just plot the rows of 'Total'. The added up number might be different with the number in 'total', and it should be fine.）"
   ]
  },
  {
   "cell_type": "code",
   "execution_count": 19,
   "metadata": {},
   "outputs": [
    {
     "name": "stderr",
     "output_type": "stream",
     "text": [
      "┌ Warning: `getindex(df::DataFrame, col_ind::ColumnIndex)` is deprecated, use `df[!, col_ind]` instead.\n",
      "│   caller = top-level scope at In[19]:1\n",
      "└ @ Core In[19]:1\n"
     ]
    },
    {
     "data": {
      "image/svg+xml": [
       "<?xml version=\"1.0\" encoding=\"utf-8\"?>\n",
       "<svg xmlns=\"http://www.w3.org/2000/svg\" xmlns:xlink=\"http://www.w3.org/1999/xlink\" width=\"600\" height=\"400\" viewBox=\"0 0 2400 1600\">\n",
       "<defs>\n",
       "  <clipPath id=\"clip8400\">\n",
       "    <rect x=\"0\" y=\"0\" width=\"2400\" height=\"1600\"/>\n",
       "  </clipPath>\n",
       "</defs>\n",
       "<polygon clip-path=\"url(#clip8400)\" points=\"\n",
       "0,1600 2400,1600 2400,0 0,0 \n",
       "  \" fill=\"#ffffff\" fill-rule=\"evenodd\" fill-opacity=\"1\"/>\n",
       "<defs>\n",
       "  <clipPath id=\"clip8401\">\n",
       "    <rect x=\"480\" y=\"0\" width=\"1681\" height=\"1600\"/>\n",
       "  </clipPath>\n",
       "</defs>\n",
       "<polygon clip-path=\"url(#clip8400)\" points=\"\n",
       "180.66,1487.47 2352.76,1487.47 2352.76,47.2441 180.66,47.2441 \n",
       "  \" fill=\"#ffffff\" fill-rule=\"evenodd\" fill-opacity=\"1\"/>\n",
       "<defs>\n",
       "  <clipPath id=\"clip8402\">\n",
       "    <rect x=\"180\" y=\"47\" width=\"2173\" height=\"1441\"/>\n",
       "  </clipPath>\n",
       "</defs>\n",
       "<polyline clip-path=\"url(#clip8402)\" style=\"stroke:#000000; stroke-width:2; stroke-opacity:0.1; fill:none\" points=\"\n",
       "  242.135,1487.47 242.135,47.2441 \n",
       "  \"/>\n",
       "<polyline clip-path=\"url(#clip8402)\" style=\"stroke:#000000; stroke-width:2; stroke-opacity:0.1; fill:none\" points=\"\n",
       "  754.421,1487.47 754.421,47.2441 \n",
       "  \"/>\n",
       "<polyline clip-path=\"url(#clip8402)\" style=\"stroke:#000000; stroke-width:2; stroke-opacity:0.1; fill:none\" points=\"\n",
       "  1266.71,1487.47 1266.71,47.2441 \n",
       "  \"/>\n",
       "<polyline clip-path=\"url(#clip8402)\" style=\"stroke:#000000; stroke-width:2; stroke-opacity:0.1; fill:none\" points=\"\n",
       "  1778.99,1487.47 1778.99,47.2441 \n",
       "  \"/>\n",
       "<polyline clip-path=\"url(#clip8402)\" style=\"stroke:#000000; stroke-width:2; stroke-opacity:0.1; fill:none\" points=\"\n",
       "  2291.28,1487.47 2291.28,47.2441 \n",
       "  \"/>\n",
       "<polyline clip-path=\"url(#clip8402)\" style=\"stroke:#000000; stroke-width:2; stroke-opacity:0.1; fill:none\" points=\"\n",
       "  180.66,1190.18 2352.76,1190.18 \n",
       "  \"/>\n",
       "<polyline clip-path=\"url(#clip8402)\" style=\"stroke:#000000; stroke-width:2; stroke-opacity:0.1; fill:none\" points=\"\n",
       "  180.66,853.1 2352.76,853.1 \n",
       "  \"/>\n",
       "<polyline clip-path=\"url(#clip8402)\" style=\"stroke:#000000; stroke-width:2; stroke-opacity:0.1; fill:none\" points=\"\n",
       "  180.66,516.023 2352.76,516.023 \n",
       "  \"/>\n",
       "<polyline clip-path=\"url(#clip8402)\" style=\"stroke:#000000; stroke-width:2; stroke-opacity:0.1; fill:none\" points=\"\n",
       "  180.66,178.945 2352.76,178.945 \n",
       "  \"/>\n",
       "<polyline clip-path=\"url(#clip8400)\" style=\"stroke:#000000; stroke-width:4; stroke-opacity:1; fill:none\" points=\"\n",
       "  180.66,1487.47 2352.76,1487.47 \n",
       "  \"/>\n",
       "<polyline clip-path=\"url(#clip8400)\" style=\"stroke:#000000; stroke-width:4; stroke-opacity:1; fill:none\" points=\"\n",
       "  180.66,1487.47 180.66,47.2441 \n",
       "  \"/>\n",
       "<polyline clip-path=\"url(#clip8400)\" style=\"stroke:#000000; stroke-width:4; stroke-opacity:1; fill:none\" points=\"\n",
       "  242.135,1487.47 242.135,1465.87 \n",
       "  \"/>\n",
       "<polyline clip-path=\"url(#clip8400)\" style=\"stroke:#000000; stroke-width:4; stroke-opacity:1; fill:none\" points=\"\n",
       "  754.421,1487.47 754.421,1465.87 \n",
       "  \"/>\n",
       "<polyline clip-path=\"url(#clip8400)\" style=\"stroke:#000000; stroke-width:4; stroke-opacity:1; fill:none\" points=\"\n",
       "  1266.71,1487.47 1266.71,1465.87 \n",
       "  \"/>\n",
       "<polyline clip-path=\"url(#clip8400)\" style=\"stroke:#000000; stroke-width:4; stroke-opacity:1; fill:none\" points=\"\n",
       "  1778.99,1487.47 1778.99,1465.87 \n",
       "  \"/>\n",
       "<polyline clip-path=\"url(#clip8400)\" style=\"stroke:#000000; stroke-width:4; stroke-opacity:1; fill:none\" points=\"\n",
       "  2291.28,1487.47 2291.28,1465.87 \n",
       "  \"/>\n",
       "<polyline clip-path=\"url(#clip8400)\" style=\"stroke:#000000; stroke-width:4; stroke-opacity:1; fill:none\" points=\"\n",
       "  180.66,1190.18 213.242,1190.18 \n",
       "  \"/>\n",
       "<polyline clip-path=\"url(#clip8400)\" style=\"stroke:#000000; stroke-width:4; stroke-opacity:1; fill:none\" points=\"\n",
       "  180.66,853.1 213.242,853.1 \n",
       "  \"/>\n",
       "<polyline clip-path=\"url(#clip8400)\" style=\"stroke:#000000; stroke-width:4; stroke-opacity:1; fill:none\" points=\"\n",
       "  180.66,516.023 213.242,516.023 \n",
       "  \"/>\n",
       "<polyline clip-path=\"url(#clip8400)\" style=\"stroke:#000000; stroke-width:4; stroke-opacity:1; fill:none\" points=\"\n",
       "  180.66,178.945 213.242,178.945 \n",
       "  \"/>\n",
       "<g clip-path=\"url(#clip8400)\">\n",
       "<text style=\"fill:#000000; fill-opacity:1; font-family:Arial,Helvetica Neue,Helvetica,sans-serif; font-size:48px; text-anchor:middle;\" transform=\"rotate(0, 242.135, 1541.47)\" x=\"242.135\" y=\"1541.47\">2009</text>\n",
       "</g>\n",
       "<g clip-path=\"url(#clip8400)\">\n",
       "<text style=\"fill:#000000; fill-opacity:1; font-family:Arial,Helvetica Neue,Helvetica,sans-serif; font-size:48px; text-anchor:middle;\" transform=\"rotate(0, 754.421, 1541.47)\" x=\"754.421\" y=\"1541.47\">2010</text>\n",
       "</g>\n",
       "<g clip-path=\"url(#clip8400)\">\n",
       "<text style=\"fill:#000000; fill-opacity:1; font-family:Arial,Helvetica Neue,Helvetica,sans-serif; font-size:48px; text-anchor:middle;\" transform=\"rotate(0, 1266.71, 1541.47)\" x=\"1266.71\" y=\"1541.47\">2011</text>\n",
       "</g>\n",
       "<g clip-path=\"url(#clip8400)\">\n",
       "<text style=\"fill:#000000; fill-opacity:1; font-family:Arial,Helvetica Neue,Helvetica,sans-serif; font-size:48px; text-anchor:middle;\" transform=\"rotate(0, 1778.99, 1541.47)\" x=\"1778.99\" y=\"1541.47\">2012</text>\n",
       "</g>\n",
       "<g clip-path=\"url(#clip8400)\">\n",
       "<text style=\"fill:#000000; fill-opacity:1; font-family:Arial,Helvetica Neue,Helvetica,sans-serif; font-size:48px; text-anchor:middle;\" transform=\"rotate(0, 2291.28, 1541.47)\" x=\"2291.28\" y=\"1541.47\">2013</text>\n",
       "</g>\n",
       "<g clip-path=\"url(#clip8400)\">\n",
       "<text style=\"fill:#000000; fill-opacity:1; font-family:Arial,Helvetica Neue,Helvetica,sans-serif; font-size:48px; text-anchor:end;\" transform=\"rotate(0, 156.66, 1207.68)\" x=\"156.66\" y=\"1207.68\">2.30</text>\n",
       "</g>\n",
       "<g clip-path=\"url(#clip8400)\">\n",
       "<text style=\"fill:#000000; fill-opacity:1; font-family:Arial,Helvetica Neue,Helvetica,sans-serif; font-size:48px; text-anchor:end;\" transform=\"rotate(0, 156.66, 870.6)\" x=\"156.66\" y=\"870.6\">2.35</text>\n",
       "</g>\n",
       "<g clip-path=\"url(#clip8400)\">\n",
       "<text style=\"fill:#000000; fill-opacity:1; font-family:Arial,Helvetica Neue,Helvetica,sans-serif; font-size:48px; text-anchor:end;\" transform=\"rotate(0, 156.66, 533.523)\" x=\"156.66\" y=\"533.523\">2.40</text>\n",
       "</g>\n",
       "<g clip-path=\"url(#clip8400)\">\n",
       "<text style=\"fill:#000000; fill-opacity:1; font-family:Arial,Helvetica Neue,Helvetica,sans-serif; font-size:48px; text-anchor:end;\" transform=\"rotate(0, 156.66, 196.445)\" x=\"156.66\" y=\"196.445\">2.45</text>\n",
       "</g>\n",
       "<polyline clip-path=\"url(#clip8402)\" style=\"stroke:#009af9; stroke-width:4; stroke-opacity:1; fill:none\" points=\"\n",
       "  242.135,1446.71 754.421,1068.7 1266.71,605.737 1778.99,88.0053 2291.28,575.597 \n",
       "  \"/>\n",
       "<polygon clip-path=\"url(#clip8400)\" points=\"\n",
       "1989.93,251.724 2280.76,251.724 2280.76,130.764 1989.93,130.764 \n",
       "  \" fill=\"#ffffff\" fill-rule=\"evenodd\" fill-opacity=\"1\"/>\n",
       "<polyline clip-path=\"url(#clip8400)\" style=\"stroke:#000000; stroke-width:4; stroke-opacity:1; fill:none\" points=\"\n",
       "  1989.93,251.724 2280.76,251.724 2280.76,130.764 1989.93,130.764 1989.93,251.724 \n",
       "  \"/>\n",
       "<polyline clip-path=\"url(#clip8400)\" style=\"stroke:#009af9; stroke-width:4; stroke-opacity:1; fill:none\" points=\"\n",
       "  2013.93,191.244 2157.93,191.244 \n",
       "  \"/>\n",
       "<g clip-path=\"url(#clip8400)\">\n",
       "<text style=\"fill:#000000; fill-opacity:1; font-family:Arial,Helvetica Neue,Helvetica,sans-serif; font-size:48px; text-anchor:start;\" transform=\"rotate(0, 2181.93, 208.744)\" x=\"2181.93\" y=\"208.744\">y1</text>\n",
       "</g>\n",
       "</svg>\n"
      ]
     },
     "execution_count": 19,
     "metadata": {},
     "output_type": "execute_result"
    }
   ],
   "source": [
    "totals = tompkins[tompkins[:IncomeClass] .== \"Total\",:]\n",
    "@df totals StatsPlots.plot(:Year,:avg_tax)"
   ]
  },
  {
   "cell_type": "markdown",
   "metadata": {},
   "source": [
    "What kind of plot did you choose to make? Why?"
   ]
  },
  {
   "cell_type": "markdown",
   "metadata": {},
   "source": [
    "I used a line plot for the first because it easy to see the income classes by the color and the overall trend for each throughout the years.\n",
    "\n",
    "I used a scatter plot (connected) for the second because it shows how the Total moves throughout the years (not differentiated by income class)"
   ]
  },
  {
   "cell_type": "markdown",
   "metadata": {},
   "source": [
    "# b)"
   ]
  },
  {
   "cell_type": "markdown",
   "metadata": {},
   "source": [
    "Continuing to look only at Tompkins County, fit a model that predicts avg_tax using the year number. Do this with least squares."
   ]
  },
  {
   "cell_type": "code",
   "execution_count": null,
   "metadata": {},
   "outputs": [],
   "source": [
    "X = totals[:,:Year]\n",
    "Y = totals[:,:avg_tax]\n",
    "w = X\\Y"
   ]
  },
  {
   "cell_type": "markdown",
   "metadata": {},
   "source": [
    "Transform the input to include an offset term in the model"
   ]
  },
  {
   "cell_type": "code",
   "execution_count": null,
   "metadata": {},
   "outputs": [],
   "source": [
    "X_offset = [X ones(length(X))]\n",
    "w_2=X_offset\\Y"
   ]
  },
  {
   "cell_type": "markdown",
   "metadata": {},
   "source": [
    "# c)"
   ]
  },
  {
   "cell_type": "markdown",
   "metadata": {},
   "source": [
    "Now we will change the feature space.\n",
    "Fit a model using the year and the avg_tax from the previous year."
   ]
  },
  {
   "cell_type": "code",
   "execution_count": null,
   "metadata": {},
   "outputs": [],
   "source": [
    "years = X[2:length(X),:]\n",
    "avg_tax_prev = Y[1:length(Y)-1,:]\n",
    "w_3 = [years avg_tax_prev ones(length(X)-1)]\\Y[2:length(Y),:]"
   ]
  },
  {
   "cell_type": "markdown",
   "metadata": {},
   "source": [
    "Interpret the coefficients of this. What do they mean?\n",
    "\n",
    "Plot the real average tax return per year against your model's prediction. Discuss how you think your model fits."
   ]
  },
  {
   "cell_type": "markdown",
   "metadata": {},
   "source": [
    "The real average tax rate is linearly proportional to the year and average tax rate of the previous year. The average tax rate appears to increase over time and has a positive correlation with the previous years average tax rate which makes sense. The model below fits decently well and according to the error, the predicted values seem to be a bit higher than the actual values for average tax rate. We can improve this with more features."
   ]
  },
  {
   "cell_type": "code",
   "execution_count": null,
   "metadata": {},
   "outputs": [],
   "source": [
    "prediction = [years avg_tax_prev ones(length(X)-1)] * w_3\n",
    "StatsPlots.scatter(Y[2:length(Y),:],prediction)\n",
    "xlabel!(\"Actual\")\n",
    "ylabel!(\"Prediction\")"
   ]
  },
  {
   "cell_type": "markdown",
   "metadata": {},
   "source": [
    "# d)"
   ]
  },
  {
   "cell_type": "markdown",
   "metadata": {},
   "source": [
    "Add two new features to your model. This could be a column of the data, a transformation of a column, or a new column formed from another. The only requirement is that the prediction in year $t$ be based on data avilable by the end of year $t-1$\n",
    "\n",
    "Fit this model and interpret the coefficients. "
   ]
  },
  {
   "cell_type": "code",
   "execution_count": null,
   "metadata": {},
   "outputs": [],
   "source": [
    "#Going to use the avg_tax from 2 years and 3 years ago\n",
    "y_len = size(Y)[1]\n",
    "avgtax_back1 = Y[3:y_len-1,:]\n",
    "avgtax_back2 = Y[2:y_len-2,:]\n",
    "avgtax_back3 = Y[1:y_len-3,:]\n",
    "Y_4 = Y[4:y_len,:]\n",
    "years = X[4:length(X),:]\n",
    "X_4 = [years avgtax_back1 avgtax_back2 avgtax_back3 ones(length(X)-3)]\n",
    "w_4 = X_4\\Y_4"
   ]
  },
  {
   "cell_type": "markdown",
   "metadata": {},
   "source": [
    "The 2 new features I added are the avg_tax from 2 and 3 years back. I think they will predict the data well because they add to the history of avg_tax we can use and are obviously very similar metrics for the county. They are both available in year t by the end of year t-1. These coefficients show that the current average tax has a strong positive correlation with the average tax from 1 year back and another positive correlation with the average tax from 3 years back. There is a negative correlation with the average tax from 2 years back."
   ]
  },
  {
   "cell_type": "code",
   "execution_count": null,
   "metadata": {},
   "outputs": [],
   "source": [
    "prediction = [years avgtax_back1 avgtax_back2 avgtax_back3 ones(length(X)-3)] * w_4\n",
    "StatsPlots.scatter(Y_4,prediction)\n",
    "xlabel!(\"Actual\")\n",
    "ylabel!(\"Prediction\")"
   ]
  },
  {
   "cell_type": "markdown",
   "metadata": {},
   "source": [
    "# e)"
   ]
  },
  {
   "cell_type": "markdown",
   "metadata": {},
   "source": [
    "Compare the coefficients from part c and d. Does the coefficient of avg_tax differ in the two models? If so, how do you interpret this difference?"
   ]
  },
  {
   "cell_type": "markdown",
   "metadata": {},
   "source": [
    "The coefficient of avg_tax made a large jump from 0.19 to 0.86. I think this difference is so significant because there are now more features and the offset also has less of an impact"
   ]
  },
  {
   "cell_type": "markdown",
   "metadata": {},
   "source": [
    "# f)"
   ]
  },
  {
   "cell_type": "markdown",
   "metadata": {},
   "source": [
    "Now we want to see how this model performs in other counties. Apply the model you fit in part c, with coefficients $w^c$, to data from the other counties and compute the error of this model on each data set.\n",
    "\n",
    "Plot a histogram of the mean errors the model makes."
   ]
  },
  {
   "cell_type": "code",
   "execution_count": null,
   "metadata": {
    "scrolled": true
   },
   "outputs": [],
   "source": [
    "ignore = String[]\n",
    "push!(ignore,\"NYS Unclassified +\")\n",
    "push!(ignore,\"Residence Unknown ++\")\n",
    "push!(ignore, \"Grand Total, Full-Year Resident\")\n",
    "ignorebool = Array{Bool}(undef, size(totals,1))\n",
    "\n",
    "for (i,county) in enumerate(totals[:County])\n",
    "    ignorebool[i] = ~(county in ignore) \n",
    "end\n",
    "\n",
    "counted_tax = totals[ignorebool,:]\n",
    "\n",
    "counties = Set((relevant_tax[:County]))\n",
    "\n",
    "reported = String[]\n",
    "\n",
    "for county in counties\n",
    "    if size(counted_tax[counted_tax[:County].==county,:County])[1] == 15\n",
    "        push!(reported, county)\n",
    "    end\n",
    "end\n",
    "\n",
    "has_all_years = Array{Bool}(undef, size(relevant_tax,1)) \n",
    "for (i,county) in enumerate(relevant_tax[:County])\n",
    "    has_all_years[i] = (county in reported)\n",
    "end\n",
    "\n",
    "final_tax = counted_tax[has_all_years,:]"
   ]
  },
  {
   "cell_type": "code",
   "execution_count": null,
   "metadata": {},
   "outputs": [],
   "source": [
    "errors = zeros(60)\n",
    "i = 1\n",
    "\n",
    "for county in reporting_counties\n",
    "    set6 = final_tax[cleaned_tax[:County] .== county,:]\n",
    "    len = size(set6)[1]\n",
    "    prev_avgtax = set6[1:len-1,:avg_tax]\n",
    "    years = set6[2:len,:Year] \n",
    "    X_6 = Array([years prev_avgtax ones(length(years))])\n",
    "    Y_6 = Array(set6[2:len,:avg_tax])\n",
    "    prediction = X_6*w_3\n",
    "    error = abs.(prediction .- Y_6)\n",
    "    mse = sum(error[:,1])/size(error,1)\n",
    "    errors[i] = mse\n",
    "    i += 1\n",
    "end\n",
    "\n",
    "histogram(errors)"
   ]
  },
  {
   "cell_type": "markdown",
   "metadata": {},
   "source": [
    "Are there major outliers?"
   ]
  },
  {
   "cell_type": "markdown",
   "metadata": {},
   "source": [
    "There are definitely major outliers and the mean squared error seems to be higher overall than in Tompkins County."
   ]
  },
  {
   "cell_type": "markdown",
   "metadata": {},
   "source": [
    "# g)"
   ]
  },
  {
   "cell_type": "markdown",
   "metadata": {},
   "source": [
    "Using the same features you chose in part d, fit a model to the data for each of the other counties. These will be county-specific models. They may have different coefficient vectors from $w^d$.\n",
    "\n",
    "Plot a histogram of the mean square errors of the county-specific models for their respective counties."
   ]
  },
  {
   "cell_type": "code",
   "execution_count": null,
   "metadata": {},
   "outputs": [],
   "source": [
    "errors2 = zeros(60)\n",
    "i = 1\n",
    "\n",
    "for county in reporting_counties\n",
    "    set7 = final_tax[cleaned_tax[:County] .== county,:]\n",
    "    len = size(set7)[1]\n",
    "    avgtax_back1 = set7[3:len-1,:avg_tax]\n",
    "    avgtax_back2 = set7[2:len-2,:avg_tax] \n",
    "    avgtax_back3 = set7[1:len-3,:avg_tax]\n",
    "    \n",
    "    years = set7[4:len,:Year] \n",
    "    X_7 = Array([years avgtax_back1 avgtax_back2 avgtax_back3 ones(length(years))])\n",
    "    Y_7 = Array(set7[4:len,:avg_tax])\n",
    "    w_7 = X_7\\Y_7\n",
    "    prediction = X_7*w_7\n",
    "    error = abs.(prediction .- Y_7)\n",
    "    mse = sum(error[:,1])/size(error,1)\n",
    "    errors2[i] = mse\n",
    "    i += 1\n",
    "end"
   ]
  },
  {
   "cell_type": "code",
   "execution_count": null,
   "metadata": {},
   "outputs": [],
   "source": [
    "histogram(errors2)"
   ]
  },
  {
   "cell_type": "markdown",
   "metadata": {},
   "source": [
    "Again, are there major outliers? How do the coefficients compare across counties?"
   ]
  },
  {
   "cell_type": "markdown",
   "metadata": {},
   "source": [
    "There are still major outliers. Most errors are smaller than that in Tompkins County. The coefficients do differ significantly for the counties."
   ]
  },
  {
   "cell_type": "markdown",
   "metadata": {},
   "source": [
    "# h)"
   ]
  },
  {
   "cell_type": "markdown",
   "metadata": {},
   "source": [
    "I would use the county-specific model because it has a much smaller median MSE than the Tompkins model. I may worry about maybe overfitting the data with the county-specific model but I think the histograms show that this isn't enough of a concern to use the Tompkins model instead."
   ]
  },
  {
   "cell_type": "markdown",
   "metadata": {},
   "source": [
    "# i)"
   ]
  },
  {
   "cell_type": "markdown",
   "metadata": {},
   "source": [
    "Other information I could use to improve the model might include population statistics for specific income brackets, median home price and maybe even inflation statistics."
   ]
  }
 ],
 "metadata": {
  "kernelspec": {
   "display_name": "Julia 1.2.0",
   "language": "julia",
   "name": "julia-1.2"
  },
  "language_info": {
   "file_extension": ".jl",
   "mimetype": "application/julia",
   "name": "julia",
   "version": "1.2.0"
  }
 },
 "nbformat": 4,
 "nbformat_minor": 1
}
